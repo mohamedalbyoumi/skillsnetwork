{
 "cells": [
  {
   "cell_type": "markdown",
   "id": "e905ee2a",
   "metadata": {},
   "source": [
    "# My Jupyter Notebook on IBM Watson Studio"
   ]
  },
  {
   "cell_type": "markdown",
   "id": "f66ef7d0",
   "metadata": {},
   "source": [
    "__Mohamed Albuyoumi__"
   ]
  },
  {
   "cell_type": "markdown",
   "id": "61a392b7",
   "metadata": {},
   "source": [
    "100% Human"
   ]
  },
  {
   "cell_type": "markdown",
   "id": "c826d45e",
   "metadata": {},
   "source": [
    "_I am Interested in Data Science Because I Love to Gain Insights from DatA_"
   ]
  },
  {
   "cell_type": "markdown",
   "id": "d078c5f8",
   "metadata": {},
   "source": [
    "### The Following Code Sums two ones"
   ]
  },
  {
   "cell_type": "code",
   "execution_count": 1,
   "id": "b1b7769c",
   "metadata": {},
   "outputs": [
    {
     "data": {
      "text/plain": [
       "2"
      ]
     },
     "execution_count": 1,
     "metadata": {},
     "output_type": "execute_result"
    }
   ],
   "source": [
    "1+1"
   ]
  },
  {
   "cell_type": "markdown",
   "id": "50bc7e66",
   "metadata": {},
   "source": [
    "***"
   ]
  },
  {
   "cell_type": "markdown",
   "id": "bf9fd17c",
   "metadata": {},
   "source": [
    "| Heading | Heading |\n",
    "| ----| ----|\n",
    "| text   | text |\n",
    "| text | text |"
   ]
  },
  {
   "cell_type": "markdown",
   "id": "f191b0b6",
   "metadata": {},
   "source": [
    "['Google']('https://www.google.com/')"
   ]
  },
  {
   "cell_type": "markdown",
   "id": "7a21498d",
   "metadata": {},
   "source": [
    "- [1]\n",
    "- [2]\n",
    "- [3]\n",
    "- [4]\n",
    "- [5]"
   ]
  },
  {
   "cell_type": "code",
   "execution_count": null,
   "id": "6802d61d",
   "metadata": {},
   "outputs": [],
   "source": []
  }
 ],
 "metadata": {
  "kernelspec": {
   "display_name": "Python 3 (ipykernel)",
   "language": "python",
   "name": "python3"
  },
  "language_info": {
   "codemirror_mode": {
    "name": "ipython",
    "version": 3
   },
   "file_extension": ".py",
   "mimetype": "text/x-python",
   "name": "python",
   "nbconvert_exporter": "python",
   "pygments_lexer": "ipython3",
   "version": "3.9.13"
  }
 },
 "nbformat": 4,
 "nbformat_minor": 5
}
